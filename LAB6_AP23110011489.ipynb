{
  "cells": [
    {
      "cell_type": "markdown",
      "metadata": {
        "id": "view-in-github",
        "colab_type": "text"
      },
      "source": [
        "<a href=\"https://colab.research.google.com/github/venkateswara489/Machine-learning/blob/main/LAB6_AP23110011489.ipynb\" target=\"_parent\"><img src=\"https://colab.research.google.com/assets/colab-badge.svg\" alt=\"Open In Colab\"/></a>"
      ]
    },
    {
      "cell_type": "markdown",
      "id": "41858f39",
      "metadata": {
        "id": "41858f39"
      },
      "source": [
        "\n",
        "# 🚗 Cars Dataset — Linear Regression (Step-by-Step, Beginner Friendly)\n",
        "*Generated on 2025-09-12 03:29:55*\n",
        "\n",
        "This notebook teaches **Linear Regression** with a Cars dataset in **small, easy steps**.  \n",
        "Each step ends with a short **📝 TODO** so you can practice.\n",
        "\n",
        "What you'll do:\n",
        "1) Download + load the dataset (via **gdown**)  \n",
        "2) Inspect + clean data (simple)  \n",
        "3) Univariate plots (histograms)  \n",
        "4) Single-variable Linear Regression (fit + plot)  \n",
        "5) Multi-variable Linear Regression (fit + metrics)  \n",
        "6) Diagnostic plots (residuals)  \n",
        "7) Polynomial features + **GridSearchCV** to find the **best degree**  \n",
        "8) Brief coefficient interpretation\n"
      ]
    },
    {
      "cell_type": "markdown",
      "id": "fdffcadd",
      "metadata": {
        "id": "fdffcadd"
      },
      "source": [
        "## 0) Setup"
      ]
    },
    {
      "cell_type": "code",
      "execution_count": null,
      "id": "cb8e4946",
      "metadata": {
        "id": "cb8e4946"
      },
      "outputs": [],
      "source": [
        "\n",
        "#@title Install & import (safe to re-run)\n",
        "import sys, subprocess\n",
        "\n",
        "def pip_install(pkg):\n",
        "    subprocess.run([sys.executable, \"-m\", \"pip\", \"install\", \"-q\", pkg], check=False)\n",
        "\n",
        "pip_install(\"gdown>=5.1\")\n",
        "pip_install(\"pandas>=1.5\")\n",
        "pip_install(\"numpy>=1.23\")\n",
        "pip_install(\"matplotlib>=3.7\")\n",
        "pip_install(\"scikit-learn>=1.3\")\n",
        "\n",
        "import gdown, os\n",
        "import numpy as np\n",
        "import pandas as pd\n",
        "import matplotlib.pyplot as plt\n",
        "\n",
        "from sklearn.model_selection import train_test_split, GridSearchCV\n",
        "from sklearn.linear_model import LinearRegression\n",
        "from sklearn.preprocessing import PolynomialFeatures, StandardScaler\n",
        "from sklearn.pipeline import Pipeline\n",
        "from sklearn.metrics import mean_absolute_error, mean_squared_error, r2_score\n"
      ]
    },
    {
      "cell_type": "markdown",
      "id": "307ee8a7",
      "metadata": {
        "id": "307ee8a7"
      },
      "source": [
        "## 1) Download & Load the Dataset"
      ]
    },
    {
      "cell_type": "code",
      "execution_count": null,
      "id": "c5c3cd0e",
      "metadata": {
        "id": "c5c3cd0e",
        "outputId": "ff09eef0-0fc6-4e2a-ef6e-7ee97478f97c"
      },
      "outputs": [
        {
          "name": "stdout",
          "output_type": "stream",
          "text": [
            "Found existing file: cars.csv\n",
            "✅ Loaded: (19820, 18)\n"
          ]
        },
        {
          "data": {
            "text/html": [
              "<div>\n",
              "<style scoped>\n",
              "    .dataframe tbody tr th:only-of-type {\n",
              "        vertical-align: middle;\n",
              "    }\n",
              "\n",
              "    .dataframe tbody tr th {\n",
              "        vertical-align: top;\n",
              "    }\n",
              "\n",
              "    .dataframe thead th {\n",
              "        text-align: right;\n",
              "    }\n",
              "</style>\n",
              "<table border=\"1\" class=\"dataframe\">\n",
              "  <thead>\n",
              "    <tr style=\"text-align: right;\">\n",
              "      <th></th>\n",
              "      <th>selling_price</th>\n",
              "      <th>year</th>\n",
              "      <th>km_driven</th>\n",
              "      <th>mileage</th>\n",
              "      <th>engine</th>\n",
              "      <th>max_power</th>\n",
              "      <th>age</th>\n",
              "      <th>make</th>\n",
              "      <th>model</th>\n",
              "      <th>Individual</th>\n",
              "      <th>Trustmark Dealer</th>\n",
              "      <th>Diesel</th>\n",
              "      <th>Electric</th>\n",
              "      <th>LPG</th>\n",
              "      <th>Petrol</th>\n",
              "      <th>Manual</th>\n",
              "      <th>5</th>\n",
              "      <th>&gt;5</th>\n",
              "    </tr>\n",
              "  </thead>\n",
              "  <tbody>\n",
              "    <tr>\n",
              "      <th>0</th>\n",
              "      <td>1.20</td>\n",
              "      <td>2012.0</td>\n",
              "      <td>120000</td>\n",
              "      <td>19.70</td>\n",
              "      <td>796.0</td>\n",
              "      <td>46.30</td>\n",
              "      <td>11.0</td>\n",
              "      <td>MARUTI</td>\n",
              "      <td>ALTO STD</td>\n",
              "      <td>1</td>\n",
              "      <td>0</td>\n",
              "      <td>0</td>\n",
              "      <td>0</td>\n",
              "      <td>0</td>\n",
              "      <td>1</td>\n",
              "      <td>1</td>\n",
              "      <td>1</td>\n",
              "      <td>0</td>\n",
              "    </tr>\n",
              "    <tr>\n",
              "      <th>1</th>\n",
              "      <td>5.50</td>\n",
              "      <td>2016.0</td>\n",
              "      <td>20000</td>\n",
              "      <td>18.90</td>\n",
              "      <td>1197.0</td>\n",
              "      <td>82.00</td>\n",
              "      <td>7.0</td>\n",
              "      <td>HYUNDAI</td>\n",
              "      <td>GRAND I10 ASTA</td>\n",
              "      <td>1</td>\n",
              "      <td>0</td>\n",
              "      <td>0</td>\n",
              "      <td>0</td>\n",
              "      <td>0</td>\n",
              "      <td>1</td>\n",
              "      <td>1</td>\n",
              "      <td>1</td>\n",
              "      <td>0</td>\n",
              "    </tr>\n",
              "    <tr>\n",
              "      <th>2</th>\n",
              "      <td>2.15</td>\n",
              "      <td>2010.0</td>\n",
              "      <td>60000</td>\n",
              "      <td>17.00</td>\n",
              "      <td>1197.0</td>\n",
              "      <td>80.00</td>\n",
              "      <td>13.0</td>\n",
              "      <td>HYUNDAI</td>\n",
              "      <td>I20 ASTA</td>\n",
              "      <td>1</td>\n",
              "      <td>0</td>\n",
              "      <td>0</td>\n",
              "      <td>0</td>\n",
              "      <td>0</td>\n",
              "      <td>1</td>\n",
              "      <td>1</td>\n",
              "      <td>1</td>\n",
              "      <td>0</td>\n",
              "    </tr>\n",
              "    <tr>\n",
              "      <th>3</th>\n",
              "      <td>2.26</td>\n",
              "      <td>2012.0</td>\n",
              "      <td>37000</td>\n",
              "      <td>20.92</td>\n",
              "      <td>998.0</td>\n",
              "      <td>67.10</td>\n",
              "      <td>11.0</td>\n",
              "      <td>MARUTI</td>\n",
              "      <td>ALTO K10 2010-2014 VXI</td>\n",
              "      <td>1</td>\n",
              "      <td>0</td>\n",
              "      <td>0</td>\n",
              "      <td>0</td>\n",
              "      <td>0</td>\n",
              "      <td>1</td>\n",
              "      <td>1</td>\n",
              "      <td>1</td>\n",
              "      <td>0</td>\n",
              "    </tr>\n",
              "    <tr>\n",
              "      <th>4</th>\n",
              "      <td>5.70</td>\n",
              "      <td>2015.0</td>\n",
              "      <td>30000</td>\n",
              "      <td>22.77</td>\n",
              "      <td>1498.0</td>\n",
              "      <td>98.59</td>\n",
              "      <td>8.0</td>\n",
              "      <td>FORD</td>\n",
              "      <td>ECOSPORT 2015-2021 1.5 TDCI TITANIUM BSIV</td>\n",
              "      <td>0</td>\n",
              "      <td>0</td>\n",
              "      <td>1</td>\n",
              "      <td>0</td>\n",
              "      <td>0</td>\n",
              "      <td>0</td>\n",
              "      <td>1</td>\n",
              "      <td>1</td>\n",
              "      <td>0</td>\n",
              "    </tr>\n",
              "  </tbody>\n",
              "</table>\n",
              "</div>"
            ],
            "text/plain": [
              "   selling_price    year  km_driven  mileage  engine  max_power   age  \\\n",
              "0           1.20  2012.0     120000    19.70   796.0      46.30  11.0   \n",
              "1           5.50  2016.0      20000    18.90  1197.0      82.00   7.0   \n",
              "2           2.15  2010.0      60000    17.00  1197.0      80.00  13.0   \n",
              "3           2.26  2012.0      37000    20.92   998.0      67.10  11.0   \n",
              "4           5.70  2015.0      30000    22.77  1498.0      98.59   8.0   \n",
              "\n",
              "      make                                      model  Individual  \\\n",
              "0   MARUTI                                   ALTO STD           1   \n",
              "1  HYUNDAI                             GRAND I10 ASTA           1   \n",
              "2  HYUNDAI                                   I20 ASTA           1   \n",
              "3   MARUTI                     ALTO K10 2010-2014 VXI           1   \n",
              "4     FORD  ECOSPORT 2015-2021 1.5 TDCI TITANIUM BSIV           0   \n",
              "\n",
              "   Trustmark Dealer  Diesel  Electric  LPG  Petrol  Manual  5  >5  \n",
              "0                 0       0         0    0       1       1  1   0  \n",
              "1                 0       0         0    0       1       1  1   0  \n",
              "2                 0       0         0    0       1       1  1   0  \n",
              "3                 0       0         0    0       1       1  1   0  \n",
              "4                 0       1         0    0       0       1  1   0  "
            ]
          },
          "execution_count": 14,
          "metadata": {},
          "output_type": "execute_result"
        }
      ],
      "source": [
        "\n",
        "#@title Download CSV via gdown\n",
        "GDOWN_ID = \"1bwRmKkPwmLKiqOgQ_LnKH0Vsc3mJKmVR\"  # provided ID\n",
        "OUTPUT_CSV = \"cars.csv\"\n",
        "\n",
        "if not os.path.exists(OUTPUT_CSV):\n",
        "    url = f\"https://drive.google.com/uc?id={GDOWN_ID}\"\n",
        "    gdown.download(url, OUTPUT_CSV, quiet=False)\n",
        "else:\n",
        "    print(\"Found existing file:\", OUTPUT_CSV)\n",
        "\n",
        "df = pd.read_csv(OUTPUT_CSV)\n",
        "print(\"✅ Loaded:\", df.shape)\n",
        "df.head()\n"
      ]
    },
    {
      "cell_type": "markdown",
      "id": "48462d17",
      "metadata": {
        "id": "48462d17"
      },
      "source": [
        "\n",
        "### 📝 TODO\n",
        "- Skim the first few rows above. What looks like a good **target** (y) for prediction (e.g., `mpg`, `price`)?\n"
      ]
    },
    {
      "cell_type": "markdown",
      "id": "725d4807",
      "metadata": {
        "id": "725d4807"
      },
      "source": [
        "- **Selling price** can be target column because all other features decide the price of the car"
      ]
    },
    {
      "cell_type": "markdown",
      "id": "505d4e37",
      "metadata": {
        "id": "505d4e37"
      },
      "source": [
        "## 2) Quick Inspect & Simple Cleaning"
      ]
    },
    {
      "cell_type": "code",
      "execution_count": null,
      "id": "60dcfe57",
      "metadata": {
        "id": "60dcfe57",
        "outputId": "d95d1dd7-0ef2-4381-b193-e34cbce267af"
      },
      "outputs": [
        {
          "data": {
            "text/plain": [
              "(19820, 18)"
            ]
          },
          "execution_count": 15,
          "metadata": {},
          "output_type": "execute_result"
        }
      ],
      "source": [
        "df.shape"
      ]
    },
    {
      "cell_type": "code",
      "execution_count": null,
      "id": "71e0e3f9",
      "metadata": {
        "id": "71e0e3f9",
        "outputId": "a872b8b0-7afd-4473-aaca-da815e468ab6"
      },
      "outputs": [
        {
          "name": "stdout",
          "output_type": "stream",
          "text": [
            "Columns: ['selling_price', 'year', 'km_driven', 'mileage', 'engine', 'max_power', 'age', 'make', 'model', 'Individual', 'Trustmark Dealer', 'Diesel', 'Electric', 'LPG', 'Petrol', 'Manual', '5', '>5']\n",
            "\n",
            "Data types:\n",
            " selling_price       float64\n",
            "year                float64\n",
            "km_driven             int64\n",
            "mileage             float64\n",
            "engine              float64\n",
            "max_power           float64\n",
            "age                 float64\n",
            "make                 object\n",
            "model                object\n",
            "Individual            int64\n",
            "Trustmark Dealer      int64\n",
            "Diesel                int64\n",
            "Electric              int64\n",
            "LPG                   int64\n",
            "Petrol                int64\n",
            "Manual                int64\n",
            "5                     int64\n",
            ">5                    int64\n",
            "dtype: object\n",
            "\n",
            "Missing values per column:\n",
            " selling_price       0\n",
            "year                0\n",
            "km_driven           0\n",
            "mileage             0\n",
            "engine              0\n",
            "max_power           0\n",
            "age                 0\n",
            "make                0\n",
            "model               0\n",
            "Individual          0\n",
            "Trustmark Dealer    0\n",
            "Diesel              0\n",
            "Electric            0\n",
            "LPG                 0\n",
            "Petrol              0\n",
            "Manual              0\n",
            "5                   0\n",
            ">5                  0\n",
            "dtype: int64\n",
            "\n",
            "Dropped duplicates: 159\n"
          ]
        }
      ],
      "source": [
        "\n",
        "print(\"Columns:\", list(df.columns))\n",
        "print(\"\\nData types:\\n\", df.dtypes)\n",
        "print(\"\\nMissing values per column:\\n\", df.isna().sum())\n",
        "\n",
        "# Simple cleaning: drop duplicates\n",
        "before = df.shape[0]\n",
        "df = df.drop_duplicates().reset_index(drop=True)\n",
        "print(\"\\nDropped duplicates:\", before - df.shape[0])\n",
        "\n",
        "df.columns = [c.strip().replace(\" \", \"_\") for c in df.columns]\n"
      ]
    },
    {
      "cell_type": "markdown",
      "id": "a18ecb52",
      "metadata": {
        "id": "a18ecb52"
      },
      "source": [
        "\n",
        "### 📝 TODO\n",
        "- If you see obvious bad rows (e.g., impossible negative values), write one **extra line** to filter them out.\n"
      ]
    },
    {
      "cell_type": "code",
      "execution_count": null,
      "id": "cb7349fd",
      "metadata": {
        "id": "cb7349fd"
      },
      "outputs": [],
      "source": [
        "for column in df.select_dtypes(include=np.number):\n",
        "    if len(df[df[column]<0]):\n",
        "        print(column)\n",
        "        df.drop(columns=[column])"
      ]
    },
    {
      "cell_type": "markdown",
      "id": "4f93a674",
      "metadata": {
        "id": "4f93a674"
      },
      "source": [
        "## 3) Choose Target and Features (Keep it Simple)"
      ]
    },
    {
      "cell_type": "code",
      "execution_count": null,
      "id": "80003962",
      "metadata": {
        "id": "80003962",
        "outputId": "5f463614-47c4-48b9-9710-bfc4ce0a1391"
      },
      "outputs": [
        {
          "name": "stdout",
          "output_type": "stream",
          "text": [
            "Target: selling_price\n",
            "Numeric features (first 6 shown): ['year', 'km_driven', 'mileage', 'engine', 'max_power', 'age']\n"
          ]
        }
      ],
      "source": [
        "\n",
        "# 👉 Set your target (change this if needed)\n",
        "TARGET = \"selling_price\"  # <-- change if your dataset uses a different target\n",
        "\n",
        "# If the target isn't present, try to auto-pick a numeric column\n",
        "if TARGET not in df.columns:\n",
        "    numeric_cols_all = df.select_dtypes(include=np.number).columns.tolist()\n",
        "    if numeric_cols_all:\n",
        "        TARGET = numeric_cols_all[0]\n",
        "        print(\"Auto-selected TARGET =\", TARGET)\n",
        "\n",
        "# We'll work **only with numeric predictors** for simplicity.\n",
        "numeric_cols = [c for c in df.select_dtypes(include=np.number).columns if c != TARGET]\n",
        "\n",
        "# Quick sanity\n",
        "print(\"Target:\", TARGET)\n",
        "print(\"Numeric features (first 6 shown):\", numeric_cols[:6])\n"
      ]
    },
    {
      "cell_type": "markdown",
      "id": "21dfa346",
      "metadata": {
        "id": "21dfa346"
      },
      "source": [
        "\n",
        "### 📝 TODO\n",
        "- If you prefer different features, create a **manual list**, e.g.  \n",
        "  `numeric_cols = ['horsepower','weight','displacement','acceleration']` (only if those exist).\n"
      ]
    },
    {
      "cell_type": "markdown",
      "id": "8328ed14",
      "metadata": {
        "id": "8328ed14"
      },
      "source": [
        "- Iam using **selling price** as target feature so i will use **same features** in further"
      ]
    },
    {
      "cell_type": "markdown",
      "id": "655c216e",
      "metadata": {
        "id": "655c216e"
      },
      "source": [
        "## 4) Univariate Plots (Matplotlib)"
      ]
    },
    {
      "cell_type": "code",
      "execution_count": null,
      "id": "aa0248ad",
      "metadata": {
        "id": "aa0248ad",
        "outputId": "ce10e2d6-26c8-4ed3-d150-6bf66342062c"
      },
      "outputs": [
        {
          "data": {
            "image/png": "[encoded data removed]",
            "text/plain": [
              "<Figure size 640x480 with 1 Axes>"
            ]
          },
          "metadata": {},
          "output_type": "display_data"
        },
        {
          "data": {
            "image/png": "[encoded data removed]",
            "text/plain": [
              "<Figure size 640x480 with 1 Axes>"
            ]
          },
          "metadata": {},
          "output_type": "display_data"
        },
        {
          "data": {
            "image/png": "[encoded data removed]",
            "text/plain": [
              "<Figure size 640x480 with 1 Axes>"
            ]
          },
          "metadata": {},
          "output_type": "display_data"
        },
        {
          "data": {
            "image/png": "[encoded data removed]",
            "text/plain": [
              "<Figure size 640x480 with 1 Axes>"
            ]
          },
          "metadata": {},
          "output_type": "display_data"
        }
      ],
      "source": [
        "\n",
        "# Plot target histogram\n",
        "if TARGET in df.columns and pd.api.types.is_numeric_dtype(df[TARGET]):\n",
        "    plt.figure()\n",
        "    df[TARGET].plot(kind='hist', bins=30, title=f\"Histogram of {TARGET}\")\n",
        "    plt.xlabel(TARGET); plt.ylabel(\"Frequency\")\n",
        "    plt.show()\n",
        "\n",
        "# Plot up to 3 numeric features' histograms\n",
        "for col in numeric_cols[:3]:\n",
        "    plt.figure()\n",
        "    df[col].plot(kind='hist', bins=30, title=f\"Histogram of {col}\")\n",
        "    plt.xlabel(col); plt.ylabel(\"Frequency\")\n",
        "    plt.show()\n"
      ]
    },
    {
      "cell_type": "markdown",
      "id": "32de8ec9",
      "metadata": {
        "id": "32de8ec9"
      },
      "source": [
        "\n",
        "### 📝 TODO\n",
        "- Looking at the histograms, note any skewed variables or outliers.\n"
      ]
    },
    {
      "cell_type": "markdown",
      "id": "9156d245",
      "metadata": {
        "id": "9156d245"
      },
      "source": [
        "- **km_driven** has almost same values for most rows\n",
        "- **year** is left_skewed\n",
        "- **selling_price** , the target column is right skewed and also have outliers"
      ]
    },
    {
      "cell_type": "markdown",
      "id": "4615337b",
      "metadata": {
        "id": "4615337b"
      },
      "source": [
        "## 5) Single-Variable Linear Regression"
      ]
    },
    {
      "cell_type": "code",
      "execution_count": null,
      "id": "377a2d1b",
      "metadata": {
        "id": "377a2d1b",
        "outputId": "a50874f8-297f-41e1-a2b1-ec744428e05f"
      },
      "outputs": [
        {
          "name": "stdout",
          "output_type": "stream",
          "text": [
            "Feature: year\n",
            "Coefficient (slope): 0.5884126624392704\n",
            "Intercept: -1178.8104689625925\n",
            "R^2 (test): 0.1589294752769993\n"
          ]
        },
        {
          "data": {
            "image/png": "[encoded data removed]",
            "text/plain": [
              "<Figure size 640x480 with 1 Axes>"
            ]
          },
          "metadata": {},
          "output_type": "display_data"
        }
      ],
      "source": [
        "\n",
        "# Pick one feature (auto-pick the first numeric feature)\n",
        "if len(numeric_cols) == 0:\n",
        "    raise ValueError(\"No numeric predictors found. Please adjust `numeric_cols`.\")\n",
        "\n",
        "FEATURE_X = numeric_cols[0]  # change to try others\n",
        "\n",
        "# Drop rows with missing target/feature\n",
        "data_1v = df[[FEATURE_X, TARGET]].dropna().copy()\n",
        "\n",
        "X = data_1v[[FEATURE_X]].values\n",
        "y = data_1v[TARGET].values\n",
        "\n",
        "# Train-test split\n",
        "X_train, X_test, y_train, y_test = train_test_split(X, y, test_size=0.2, random_state=42)\n",
        "\n",
        "# Fit linear regression\n",
        "lr = LinearRegression()\n",
        "lr.fit(X_train, y_train)\n",
        "\n",
        "# Predictions on test set\n",
        "y_pred = lr.predict(X_test)\n",
        "\n",
        "print(\"Feature:\", FEATURE_X)\n",
        "print(\"Coefficient (slope):\", lr.coef_[0])\n",
        "print(\"Intercept:\", lr.intercept_)\n",
        "print(\"R^2 (test):\", r2_score(y_test, y_pred))\n",
        "\n",
        "# Plot scatter + regression line (on test set)\n",
        "plt.figure()\n",
        "plt.scatter(X_test, y_test, label=\"Actual\")\n",
        "# create a line\n",
        "x_line = np.linspace(X.min(), X.max(), 200).reshape(-1,1)\n",
        "y_line = lr.predict(x_line)\n",
        "plt.plot(x_line, y_line, label=\"Fit\")\n",
        "plt.xlabel(FEATURE_X); plt.ylabel(TARGET); plt.title(\"Single-Variable Linear Regression\")\n",
        "plt.legend()\n",
        "plt.show()\n"
      ]
    },
    {
      "cell_type": "markdown",
      "id": "7c813aaf",
      "metadata": {
        "id": "7c813aaf"
      },
      "source": [
        "\n",
        "### 📝 TODO\n",
        "- Change `FEATURE_X` to a different column and re-run.\n",
        "- Does the line slope match your intuition about the relationship?\n"
      ]
    },
    {
      "cell_type": "code",
      "execution_count": null,
      "id": "ad0b82fe",
      "metadata": {
        "id": "ad0b82fe",
        "outputId": "9e1f42ba-70ae-4588-ee99-bdf3aa4b7cf0"
      },
      "outputs": [
        {
          "name": "stdout",
          "output_type": "stream",
          "text": [
            "Feature: max_power\n",
            "Coefficient (slope): 0.08485363469107739\n",
            "Intercept: -1.7403977948878495\n",
            "R^2 (test): 0.5522138294316297\n"
          ]
        },
        {
          "data": {
            "image/png": "[encoded data removed]",
            "text/plain": [
              "<Figure size 640x480 with 1 Axes>"
            ]
          },
          "metadata": {},
          "output_type": "display_data"
        }
      ],
      "source": [
        "\n",
        "# Pick one feature (auto-pick the first numeric feature)\n",
        "if len(numeric_cols) == 0:\n",
        "    raise ValueError(\"No numeric predictors found. Please adjust `numeric_cols`.\")\n",
        "\n",
        "FEATURE_X = numeric_cols[4]  # change to try others\n",
        "\n",
        "# Drop rows with missing target/feature\n",
        "data_1v = df[[FEATURE_X, TARGET]].dropna().copy()\n",
        "\n",
        "X = data_1v[[FEATURE_X]].values\n",
        "y = data_1v[TARGET].values\n",
        "\n",
        "# Train-test split\n",
        "X_train, X_test, y_train, y_test = train_test_split(X, y, test_size=0.2, random_state=42)\n",
        "\n",
        "# Fit linear regression\n",
        "lr = LinearRegression()\n",
        "lr.fit(X_train, y_train)\n",
        "\n",
        "# Predictions on test set\n",
        "y_pred = lr.predict(X_test)\n",
        "\n",
        "print(\"Feature:\", FEATURE_X)\n",
        "print(\"Coefficient (slope):\", lr.coef_[0])\n",
        "print(\"Intercept:\", lr.intercept_)\n",
        "print(\"R^2 (test):\", r2_score(y_test, y_pred))\n",
        "\n",
        "# Plot scatter + regression line (on test set)\n",
        "plt.figure()\n",
        "plt.scatter(X_test, y_test, label=\"Actual\")\n",
        "# create a line\n",
        "x_line = np.linspace(X.min(), X.max(), 200).reshape(-1,1)\n",
        "y_line = lr.predict(x_line)\n",
        "plt.plot(x_line, y_line, label=\"Fit\")\n",
        "plt.xlabel(FEATURE_X); plt.ylabel(TARGET); plt.title(\"Single-Variable Linear Regression\")\n",
        "plt.legend()\n",
        "plt.show()\n"
      ]
    },
    {
      "cell_type": "markdown",
      "id": "f0cd8a40",
      "metadata": {
        "id": "f0cd8a40"
      },
      "source": [
        "- If i use max_power as input feature then i am getting 0.55 r2 score"
      ]
    },
    {
      "cell_type": "markdown",
      "id": "a5d8c5e1",
      "metadata": {
        "id": "a5d8c5e1"
      },
      "source": [
        "- yes. the line slope match our intuition about the relationship"
      ]
    },
    {
      "cell_type": "markdown",
      "id": "dd8880fb",
      "metadata": {
        "id": "dd8880fb"
      },
      "source": [
        "## 6) Multi-Variable Linear Regression (Simple)"
      ]
    },
    {
      "cell_type": "code",
      "execution_count": null,
      "id": "fc4b5f2c",
      "metadata": {
        "id": "fc4b5f2c",
        "outputId": "3d932dc8-a0b6-41cf-cd16-0ffa1c75b3d9"
      },
      "outputs": [
        {
          "name": "stdout",
          "output_type": "stream",
          "text": [
            "MAE:  1.609\n",
            "MSE:  5.627\n",
            "RMSE: 2.372\n",
            "R^2:  0.739\n"
          ]
        }
      ],
      "source": [
        "\n",
        "# Keep only numeric predictors + target; drop NA\n",
        "data_mv = df[numeric_cols + [TARGET]].dropna().copy()\n",
        "\n",
        "X = data_mv[numeric_cols].values\n",
        "y = data_mv[TARGET].values\n",
        "\n",
        "X_train, X_test, y_train, y_test = train_test_split(X, y, test_size=0.2, random_state=42)\n",
        "\n",
        "lin = LinearRegression()\n",
        "lin.fit(X_train, y_train)\n",
        "\n",
        "y_pred = lin.predict(X_test)\n",
        "\n",
        "mae = mean_absolute_error(y_test, y_pred)\n",
        "mse = mean_squared_error(y_test, y_pred)\n",
        "rmse = np.sqrt(mean_squared_error(y_test, y_pred))\n",
        "r2 = r2_score(y_test, y_pred)\n",
        "\n",
        "print(f\"MAE:  {mae:.3f}\")\n",
        "print(f\"MSE:  {mse:.3f}\")\n",
        "print(f\"RMSE: {rmse:.3f}\")\n",
        "print(f\"R^2:  {r2:.3f}\")\n"
      ]
    },
    {
      "cell_type": "markdown",
      "id": "c2800867",
      "metadata": {
        "id": "c2800867"
      },
      "source": [
        "\n",
        "### 📝 TODO\n",
        "- Remove one weak feature from `numeric_cols` and see how metrics change.\n",
        "- Add a different feature and compare.\n"
      ]
    },
    {
      "cell_type": "code",
      "execution_count": null,
      "id": "93584fc1",
      "metadata": {
        "id": "93584fc1"
      },
      "outputs": [],
      "source": [
        "numeric_cols_1=numeric_cols+['selling_price']"
      ]
    },
    {
      "cell_type": "code",
      "execution_count": null,
      "id": "245f0c25",
      "metadata": {
        "id": "245f0c25",
        "outputId": "0568cc6e-6ac2-4eb5-963d-6064d8748a20"
      },
      "outputs": [
        {
          "data": {
            "text/html": [
              "<div>\n",
              "<style scoped>\n",
              "    .dataframe tbody tr th:only-of-type {\n",
              "        vertical-align: middle;\n",
              "    }\n",
              "\n",
              "    .dataframe tbody tr th {\n",
              "        vertical-align: top;\n",
              "    }\n",
              "\n",
              "    .dataframe thead th {\n",
              "        text-align: right;\n",
              "    }\n",
              "</style>\n",
              "<table border=\"1\" class=\"dataframe\">\n",
              "  <thead>\n",
              "    <tr style=\"text-align: right;\">\n",
              "      <th></th>\n",
              "      <th>year</th>\n",
              "      <th>km_driven</th>\n",
              "      <th>mileage</th>\n",
              "      <th>engine</th>\n",
              "      <th>max_power</th>\n",
              "      <th>age</th>\n",
              "      <th>Individual</th>\n",
              "      <th>Diesel</th>\n",
              "      <th>Electric</th>\n",
              "      <th>LPG</th>\n",
              "      <th>Petrol</th>\n",
              "      <th>Manual</th>\n",
              "      <th>5</th>\n",
              "      <th>&gt;5</th>\n",
              "      <th>selling_price</th>\n",
              "      <th>selling_price</th>\n",
              "    </tr>\n",
              "  </thead>\n",
              "  <tbody>\n",
              "    <tr>\n",
              "      <th>year</th>\n",
              "      <td>1.000000</td>\n",
              "      <td>-0.309179</td>\n",
              "      <td>0.263653</td>\n",
              "      <td>-0.055948</td>\n",
              "      <td>0.074003</td>\n",
              "      <td>-1.000000</td>\n",
              "      <td>-0.017364</td>\n",
              "      <td>0.025995</td>\n",
              "      <td>0.004374</td>\n",
              "      <td>-0.072741</td>\n",
              "      <td>-0.025593</td>\n",
              "      <td>-0.107231</td>\n",
              "      <td>-0.001807</td>\n",
              "      <td>0.023127</td>\n",
              "      <td>0.390817</td>\n",
              "      <td>0.390817</td>\n",
              "    </tr>\n",
              "    <tr>\n",
              "      <th>km_driven</th>\n",
              "      <td>-0.309179</td>\n",
              "      <td>1.000000</td>\n",
              "      <td>-0.090092</td>\n",
              "      <td>0.170619</td>\n",
              "      <td>0.008451</td>\n",
              "      <td>0.309179</td>\n",
              "      <td>0.090885</td>\n",
              "      <td>0.249597</td>\n",
              "      <td>-0.002349</td>\n",
              "      <td>0.014135</td>\n",
              "      <td>-0.249246</td>\n",
              "      <td>0.083774</td>\n",
              "      <td>-0.136463</td>\n",
              "      <td>0.151605</td>\n",
              "      <td>-0.099560</td>\n",
              "      <td>-0.099560</td>\n",
              "    </tr>\n",
              "    <tr>\n",
              "      <th>mileage</th>\n",
              "      <td>0.263653</td>\n",
              "      <td>-0.090092</td>\n",
              "      <td>1.000000</td>\n",
              "      <td>-0.585744</td>\n",
              "      <td>-0.471698</td>\n",
              "      <td>-0.263653</td>\n",
              "      <td>0.067459</td>\n",
              "      <td>0.109634</td>\n",
              "      <td>0.229250</td>\n",
              "      <td>-0.023507</td>\n",
              "      <td>-0.160032</td>\n",
              "      <td>0.260723</td>\n",
              "      <td>0.370827</td>\n",
              "      <td>-0.378791</td>\n",
              "      <td>-0.313245</td>\n",
              "      <td>-0.313245</td>\n",
              "    </tr>\n",
              "    <tr>\n",
              "      <th>engine</th>\n",
              "      <td>-0.055948</td>\n",
              "      <td>0.170619</td>\n",
              "      <td>-0.585744</td>\n",
              "      <td>1.000000</td>\n",
              "      <td>0.789888</td>\n",
              "      <td>0.055948</td>\n",
              "      <td>-0.111053</td>\n",
              "      <td>0.454913</td>\n",
              "      <td>-0.001670</td>\n",
              "      <td>-0.049321</td>\n",
              "      <td>-0.426185</td>\n",
              "      <td>-0.364883</td>\n",
              "      <td>-0.517088</td>\n",
              "      <td>0.515445</td>\n",
              "      <td>0.651053</td>\n",
              "      <td>0.651053</td>\n",
              "    </tr>\n",
              "    <tr>\n",
              "      <th>max_power</th>\n",
              "      <td>0.074003</td>\n",
              "      <td>0.008451</td>\n",
              "      <td>-0.471698</td>\n",
              "      <td>0.789888</td>\n",
              "      <td>1.000000</td>\n",
              "      <td>-0.074003</td>\n",
              "      <td>-0.192644</td>\n",
              "      <td>0.262068</td>\n",
              "      <td>-0.002887</td>\n",
              "      <td>-0.053196</td>\n",
              "      <td>-0.231627</td>\n",
              "      <td>-0.540839</td>\n",
              "      <td>-0.223915</td>\n",
              "      <td>0.192946</td>\n",
              "      <td>0.770219</td>\n",
              "      <td>0.770219</td>\n",
              "    </tr>\n",
              "    <tr>\n",
              "      <th>age</th>\n",
              "      <td>-1.000000</td>\n",
              "      <td>0.309179</td>\n",
              "      <td>-0.263653</td>\n",
              "      <td>0.055948</td>\n",
              "      <td>-0.074003</td>\n",
              "      <td>1.000000</td>\n",
              "      <td>0.017364</td>\n",
              "      <td>-0.025995</td>\n",
              "      <td>-0.004374</td>\n",
              "      <td>0.072741</td>\n",
              "      <td>0.025593</td>\n",
              "      <td>0.107231</td>\n",
              "      <td>0.001807</td>\n",
              "      <td>-0.023127</td>\n",
              "      <td>-0.390817</td>\n",
              "      <td>-0.390817</td>\n",
              "    </tr>\n",
              "    <tr>\n",
              "      <th>Individual</th>\n",
              "      <td>-0.017364</td>\n",
              "      <td>0.090885</td>\n",
              "      <td>0.067459</td>\n",
              "      <td>-0.111053</td>\n",
              "      <td>-0.192644</td>\n",
              "      <td>0.017364</td>\n",
              "      <td>1.000000</td>\n",
              "      <td>0.015317</td>\n",
              "      <td>-0.005813</td>\n",
              "      <td>0.031120</td>\n",
              "      <td>-0.008487</td>\n",
              "      <td>0.215144</td>\n",
              "      <td>-0.049331</td>\n",
              "      <td>0.055918</td>\n",
              "      <td>-0.199011</td>\n",
              "      <td>-0.199011</td>\n",
              "    </tr>\n",
              "    <tr>\n",
              "      <th>Diesel</th>\n",
              "      <td>0.025995</td>\n",
              "      <td>0.249597</td>\n",
              "      <td>0.109634</td>\n",
              "      <td>0.454913</td>\n",
              "      <td>0.262068</td>\n",
              "      <td>-0.025995</td>\n",
              "      <td>0.015317</td>\n",
              "      <td>1.000000</td>\n",
              "      <td>-0.019863</td>\n",
              "      <td>-0.056262</td>\n",
              "      <td>-0.961490</td>\n",
              "      <td>-0.040001</td>\n",
              "      <td>-0.287471</td>\n",
              "      <td>0.314267</td>\n",
              "      <td>0.335167</td>\n",
              "      <td>0.335167</td>\n",
              "    </tr>\n",
              "    <tr>\n",
              "      <th>Electric</th>\n",
              "      <td>0.004374</td>\n",
              "      <td>-0.002349</td>\n",
              "      <td>0.229250</td>\n",
              "      <td>-0.001670</td>\n",
              "      <td>-0.002887</td>\n",
              "      <td>-0.004374</td>\n",
              "      <td>-0.005813</td>\n",
              "      <td>-0.019863</td>\n",
              "      <td>1.000000</td>\n",
              "      <td>-0.001153</td>\n",
              "      <td>-0.019704</td>\n",
              "      <td>-0.040860</td>\n",
              "      <td>0.002164</td>\n",
              "      <td>-0.008563</td>\n",
              "      <td>0.019335</td>\n",
              "      <td>0.019335</td>\n",
              "    </tr>\n",
              "    <tr>\n",
              "      <th>LPG</th>\n",
              "      <td>-0.072741</td>\n",
              "      <td>0.014135</td>\n",
              "      <td>-0.023507</td>\n",
              "      <td>-0.049321</td>\n",
              "      <td>-0.053196</td>\n",
              "      <td>0.072741</td>\n",
              "      <td>0.031120</td>\n",
              "      <td>-0.056262</td>\n",
              "      <td>-0.001153</td>\n",
              "      <td>1.000000</td>\n",
              "      <td>-0.055811</td>\n",
              "      <td>0.028218</td>\n",
              "      <td>0.025384</td>\n",
              "      <td>-0.024254</td>\n",
              "      <td>-0.053630</td>\n",
              "      <td>-0.053630</td>\n",
              "    </tr>\n",
              "    <tr>\n",
              "      <th>Petrol</th>\n",
              "      <td>-0.025593</td>\n",
              "      <td>-0.249246</td>\n",
              "      <td>-0.160032</td>\n",
              "      <td>-0.426185</td>\n",
              "      <td>-0.231627</td>\n",
              "      <td>0.025593</td>\n",
              "      <td>-0.008487</td>\n",
              "      <td>-0.961490</td>\n",
              "      <td>-0.019704</td>\n",
              "      <td>-0.055811</td>\n",
              "      <td>1.000000</td>\n",
              "      <td>0.022664</td>\n",
              "      <td>0.291189</td>\n",
              "      <td>-0.314057</td>\n",
              "      <td>-0.313477</td>\n",
              "      <td>-0.313477</td>\n",
              "    </tr>\n",
              "    <tr>\n",
              "      <th>Manual</th>\n",
              "      <td>-0.107231</td>\n",
              "      <td>0.083774</td>\n",
              "      <td>0.260723</td>\n",
              "      <td>-0.364883</td>\n",
              "      <td>-0.540839</td>\n",
              "      <td>0.107231</td>\n",
              "      <td>0.215144</td>\n",
              "      <td>-0.040001</td>\n",
              "      <td>-0.040860</td>\n",
              "      <td>0.028218</td>\n",
              "      <td>0.022664</td>\n",
              "      <td>1.000000</td>\n",
              "      <td>-0.019378</td>\n",
              "      <td>0.047119</td>\n",
              "      <td>-0.578418</td>\n",
              "      <td>-0.578418</td>\n",
              "    </tr>\n",
              "    <tr>\n",
              "      <th>5</th>\n",
              "      <td>-0.001807</td>\n",
              "      <td>-0.136463</td>\n",
              "      <td>0.370827</td>\n",
              "      <td>-0.517088</td>\n",
              "      <td>-0.223915</td>\n",
              "      <td>0.001807</td>\n",
              "      <td>-0.049331</td>\n",
              "      <td>-0.287471</td>\n",
              "      <td>0.002164</td>\n",
              "      <td>0.025384</td>\n",
              "      <td>0.291189</td>\n",
              "      <td>-0.019378</td>\n",
              "      <td>1.000000</td>\n",
              "      <td>-0.955483</td>\n",
              "      <td>-0.234138</td>\n",
              "      <td>-0.234138</td>\n",
              "    </tr>\n",
              "    <tr>\n",
              "      <th>&gt;5</th>\n",
              "      <td>0.023127</td>\n",
              "      <td>0.151605</td>\n",
              "      <td>-0.378791</td>\n",
              "      <td>0.515445</td>\n",
              "      <td>0.192946</td>\n",
              "      <td>-0.023127</td>\n",
              "      <td>0.055918</td>\n",
              "      <td>0.314267</td>\n",
              "      <td>-0.008563</td>\n",
              "      <td>-0.024254</td>\n",
              "      <td>-0.314057</td>\n",
              "      <td>0.047119</td>\n",
              "      <td>-0.955483</td>\n",
              "      <td>1.000000</td>\n",
              "      <td>0.223203</td>\n",
              "      <td>0.223203</td>\n",
              "    </tr>\n",
              "    <tr>\n",
              "      <th>selling_price</th>\n",
              "      <td>0.390817</td>\n",
              "      <td>-0.099560</td>\n",
              "      <td>-0.313245</td>\n",
              "      <td>0.651053</td>\n",
              "      <td>0.770219</td>\n",
              "      <td>-0.390817</td>\n",
              "      <td>-0.199011</td>\n",
              "      <td>0.335167</td>\n",
              "      <td>0.019335</td>\n",
              "      <td>-0.053630</td>\n",
              "      <td>-0.313477</td>\n",
              "      <td>-0.578418</td>\n",
              "      <td>-0.234138</td>\n",
              "      <td>0.223203</td>\n",
              "      <td>1.000000</td>\n",
              "      <td>1.000000</td>\n",
              "    </tr>\n",
              "    <tr>\n",
              "      <th>selling_price</th>\n",
              "      <td>0.390817</td>\n",
              "      <td>-0.099560</td>\n",
              "      <td>-0.313245</td>\n",
              "      <td>0.651053</td>\n",
              "      <td>0.770219</td>\n",
              "      <td>-0.390817</td>\n",
              "      <td>-0.199011</td>\n",
              "      <td>0.335167</td>\n",
              "      <td>0.019335</td>\n",
              "      <td>-0.053630</td>\n",
              "      <td>-0.313477</td>\n",
              "      <td>-0.578418</td>\n",
              "      <td>-0.234138</td>\n",
              "      <td>0.223203</td>\n",
              "      <td>1.000000</td>\n",
              "      <td>1.000000</td>\n",
              "    </tr>\n",
              "  </tbody>\n",
              "</table>\n",
              "</div>"
            ],
            "text/plain": [
              "                   year  km_driven   mileage    engine  max_power       age  \\\n",
              "year           1.000000  -0.309179  0.263653 -0.055948   0.074003 -1.000000   \n",
              "km_driven     -0.309179   1.000000 -0.090092  0.170619   0.008451  0.309179   \n",
              "mileage        0.263653  -0.090092  1.000000 -0.585744  -0.471698 -0.263653   \n",
              "engine        -0.055948   0.170619 -0.585744  1.000000   0.789888  0.055948   \n",
              "max_power      0.074003   0.008451 -0.471698  0.789888   1.000000 -0.074003   \n",
              "age           -1.000000   0.309179 -0.263653  0.055948  -0.074003  1.000000   \n",
              "Individual    -0.017364   0.090885  0.067459 -0.111053  -0.192644  0.017364   \n",
              "Diesel         0.025995   0.249597  0.109634  0.454913   0.262068 -0.025995   \n",
              "Electric       0.004374  -0.002349  0.229250 -0.001670  -0.002887 -0.004374   \n",
              "LPG           -0.072741   0.014135 -0.023507 -0.049321  -0.053196  0.072741   \n",
              "Petrol        -0.025593  -0.249246 -0.160032 -0.426185  -0.231627  0.025593   \n",
              "Manual        -0.107231   0.083774  0.260723 -0.364883  -0.540839  0.107231   \n",
              "5             -0.001807  -0.136463  0.370827 -0.517088  -0.223915  0.001807   \n",
              ">5             0.023127   0.151605 -0.378791  0.515445   0.192946 -0.023127   \n",
              "selling_price  0.390817  -0.099560 -0.313245  0.651053   0.770219 -0.390817   \n",
              "selling_price  0.390817  -0.099560 -0.313245  0.651053   0.770219 -0.390817   \n",
              "\n",
              "               Individual    Diesel  Electric       LPG    Petrol    Manual  \\\n",
              "year            -0.017364  0.025995  0.004374 -0.072741 -0.025593 -0.107231   \n",
              "km_driven        0.090885  0.249597 -0.002349  0.014135 -0.249246  0.083774   \n",
              "mileage          0.067459  0.109634  0.229250 -0.023507 -0.160032  0.260723   \n",
              "engine          -0.111053  0.454913 -0.001670 -0.049321 -0.426185 -0.364883   \n",
              "max_power       -0.192644  0.262068 -0.002887 -0.053196 -0.231627 -0.540839   \n",
              "age              0.017364 -0.025995 -0.004374  0.072741  0.025593  0.107231   \n",
              "Individual       1.000000  0.015317 -0.005813  0.031120 -0.008487  0.215144   \n",
              "Diesel           0.015317  1.000000 -0.019863 -0.056262 -0.961490 -0.040001   \n",
              "Electric        -0.005813 -0.019863  1.000000 -0.001153 -0.019704 -0.040860   \n",
              "LPG              0.031120 -0.056262 -0.001153  1.000000 -0.055811  0.028218   \n",
              "Petrol          -0.008487 -0.961490 -0.019704 -0.055811  1.000000  0.022664   \n",
              "Manual           0.215144 -0.040001 -0.040860  0.028218  0.022664  1.000000   \n",
              "5               -0.049331 -0.287471  0.002164  0.025384  0.291189 -0.019378   \n",
              ">5               0.055918  0.314267 -0.008563 -0.024254 -0.314057  0.047119   \n",
              "selling_price   -0.199011  0.335167  0.019335 -0.053630 -0.313477 -0.578418   \n",
              "selling_price   -0.199011  0.335167  0.019335 -0.053630 -0.313477 -0.578418   \n",
              "\n",
              "                      5        >5  selling_price  selling_price  \n",
              "year          -0.001807  0.023127       0.390817       0.390817  \n",
              "km_driven     -0.136463  0.151605      -0.099560      -0.099560  \n",
              "mileage        0.370827 -0.378791      -0.313245      -0.313245  \n",
              "engine        -0.517088  0.515445       0.651053       0.651053  \n",
              "max_power     -0.223915  0.192946       0.770219       0.770219  \n",
              "age            0.001807 -0.023127      -0.390817      -0.390817  \n",
              "Individual    -0.049331  0.055918      -0.199011      -0.199011  \n",
              "Diesel        -0.287471  0.314267       0.335167       0.335167  \n",
              "Electric       0.002164 -0.008563       0.019335       0.019335  \n",
              "LPG            0.025384 -0.024254      -0.053630      -0.053630  \n",
              "Petrol         0.291189 -0.314057      -0.313477      -0.313477  \n",
              "Manual        -0.019378  0.047119      -0.578418      -0.578418  \n",
              "5              1.000000 -0.955483      -0.234138      -0.234138  \n",
              ">5            -0.955483  1.000000       0.223203       0.223203  \n",
              "selling_price -0.234138  0.223203       1.000000       1.000000  \n",
              "selling_price -0.234138  0.223203       1.000000       1.000000  "
            ]
          },
          "execution_count": 60,
          "metadata": {},
          "output_type": "execute_result"
        }
      ],
      "source": [
        "\n",
        "tempdf=df[numeric_cols_1]\n",
        "tempdf.corr()"
      ]
    },
    {
      "cell_type": "code",
      "execution_count": null,
      "id": "e6541dad",
      "metadata": {
        "id": "e6541dad",
        "outputId": "36474f86-475a-4554-86cc-0551f333e282"
      },
      "outputs": [
        {
          "data": {
            "text/plain": [
              "['year',\n",
              " 'km_driven',\n",
              " 'mileage',\n",
              " 'engine',\n",
              " 'max_power',\n",
              " 'age',\n",
              " 'Individual',\n",
              " 'Diesel',\n",
              " 'Electric',\n",
              " 'LPG',\n",
              " 'Petrol',\n",
              " 'Manual',\n",
              " '5',\n",
              " '>5']"
            ]
          },
          "execution_count": 57,
          "metadata": {},
          "output_type": "execute_result"
        }
      ],
      "source": [
        "numeric_cols"
      ]
    },
    {
      "cell_type": "code",
      "execution_count": null,
      "id": "4dd18428",
      "metadata": {
        "id": "4dd18428",
        "outputId": "458189ad-aa79-4aec-b035-759bfd1cb44c"
      },
      "outputs": [
        {
          "name": "stdout",
          "output_type": "stream",
          "text": [
            "['year', 'km_driven', 'mileage', 'engine', 'max_power', 'age', 'Individual', 'Diesel', 'Electric', 'Petrol', 'Manual', '5', '>5', 'selling_price']\n"
          ]
        }
      ],
      "source": []
    },
    {
      "cell_type": "code",
      "execution_count": null,
      "id": "0e59d32b",
      "metadata": {
        "id": "0e59d32b",
        "outputId": "9a656b8f-4be8-4fde-9c08-a81c8a13e7a0"
      },
      "outputs": [
        {
          "name": "stdout",
          "output_type": "stream",
          "text": [
            "MAE:  1.609\n",
            "MSE:  5.628\n",
            "RMSE: 2.372\n",
            "R^2:  0.739\n"
          ]
        }
      ],
      "source": [
        "\n",
        "# Keep only numeric predictors + target; drop NA\n",
        "# numeric_cols.remove('LPG')\n",
        "numeric_cols.remove('selling_price')\n",
        "data_mv = df[numeric_cols + [TARGET]].dropna().copy()\n",
        "\n",
        "X = data_mv[numeric_cols].values\n",
        "y = data_mv[TARGET].values\n",
        "\n",
        "X_train, X_test, y_train, y_test = train_test_split(X, y, test_size=0.2, random_state=42)\n",
        "\n",
        "lin = LinearRegression()\n",
        "lin.fit(X_train, y_train)\n",
        "\n",
        "y_pred = lin.predict(X_test)\n",
        "\n",
        "mae = mean_absolute_error(y_test, y_pred)\n",
        "mse = mean_squared_error(y_test, y_pred)\n",
        "rmse = np.sqrt(mean_squared_error(y_test, y_pred))\n",
        "r2 = r2_score(y_test, y_pred)\n",
        "\n",
        "print(f\"MAE:  {mae:.3f}\")\n",
        "print(f\"MSE:  {mse:.3f}\")\n",
        "print(f\"RMSE: {rmse:.3f}\")\n",
        "print(f\"R^2:  {r2:.3f}\")\n"
      ]
    },
    {
      "cell_type": "markdown",
      "id": "944fe2a1",
      "metadata": {
        "id": "944fe2a1"
      },
      "source": [
        "## 7) Diagnostic Plots (Residuals)"
      ]
    },
    {
      "cell_type": "code",
      "execution_count": null,
      "id": "0bfe20c7",
      "metadata": {
        "id": "0bfe20c7"
      },
      "outputs": [],
      "source": [
        "\n",
        "# Reuse y_test and y_pred from multi-variable model\n",
        "residuals = y_test - y_pred\n",
        "\n",
        "# Predicted vs Actual\n",
        "plt.figure()\n",
        "plt.scatter(y_test, y_pred)\n",
        "plt.xlabel(\"Actual\"); plt.ylabel(\"Predicted\")\n",
        "plt.title(\"Predicted vs Actual (Test)\")\n",
        "plt.show()\n",
        "\n",
        "# Residuals vs Predicted\n",
        "plt.figure()\n",
        "plt.scatter(y_pred, residuals)\n",
        "plt.axhline(0, linestyle='--')\n",
        "plt.xlabel(\"Predicted\"); plt.ylabel(\"Residuals\")\n",
        "plt.title(\"Residuals vs Predicted\")\n",
        "plt.show()\n",
        "\n",
        "# Histogram of residuals\n",
        "plt.figure()\n",
        "pd.Series(residuals).plot(kind='hist', bins=30, title=\"Histogram of Residuals\")\n",
        "plt.xlabel(\"Residual\"); plt.ylabel(\"Frequency\")\n",
        "plt.show()\n"
      ]
    },
    {
      "cell_type": "markdown",
      "id": "2d515f1e",
      "metadata": {
        "id": "2d515f1e"
      },
      "source": [
        "\n",
        "### 📝 TODO\n",
        "- Do residuals look roughly centered around 0 and evenly spread?\n",
        "- If not, which assumption might be violated?\n"
      ]
    },
    {
      "cell_type": "markdown",
      "id": "05fbe0a3",
      "metadata": {
        "id": "05fbe0a3"
      },
      "source": [
        "## 8) Polynomial Features + Grid Search for Best Degree"
      ]
    },
    {
      "cell_type": "markdown",
      "id": "a9418dd4",
      "metadata": {
        "id": "a9418dd4"
      },
      "source": [
        "\n",
        "Even though it's called \"polynomial regression\", it's still **linear regression** applied to **polynomially-expanded features**.\n",
        "We'll try degrees **1 to 5** on a **single predictor** and pick the degree with the best cross-validated **R²**.\n"
      ]
    },
    {
      "cell_type": "code",
      "execution_count": null,
      "id": "5d68dfb0",
      "metadata": {
        "id": "5d68dfb0"
      },
      "outputs": [],
      "source": [
        "\n",
        "# Choose a single predictor again (same FEATURE_X as before by default)\n",
        "FEATURE_X = FEATURE_X  # keep same, or set to something else like 'horsepower'\n",
        "\n",
        "poly_data = df[[FEATURE_X, TARGET]].dropna().copy()\n",
        "X = poly_data[[FEATURE_X]].values\n",
        "y = poly_data[TARGET].values\n",
        "\n",
        "pipe = Pipeline([\n",
        "    (\"poly\", PolynomialFeatures(include_bias=False)),\n",
        "    (\"lr\", LinearRegression())\n",
        "])\n",
        "\n",
        "param_grid = {\n",
        "    \"poly__degree\": [1, 2, 3, 4, 5],\n",
        "    \"lr__fit_intercept\": [True, False]\n",
        "}\n",
        "\n",
        "grid = GridSearchCV(pipe, param_grid, cv=5, scoring=\"r2\", n_jobs=-1)\n",
        "grid.fit(X, y)\n",
        "\n",
        "print(\"Best params:\", grid.best_params_)\n",
        "print(\"Best CV R^2:\", grid.best_score_)\n",
        "\n",
        "best_model = grid.best_estimator_\n",
        "\n",
        "# Plot best curve\n",
        "x_line = np.linspace(X.min(), X.max(), 200).reshape(-1,1)\n",
        "y_line = best_model.predict(x_line)\n",
        "\n",
        "plt.figure()\n",
        "plt.scatter(X, y, s=12)\n",
        "plt.plot(x_line, y_line)\n",
        "plt.xlabel(FEATURE_X); plt.ylabel(TARGET)\n",
        "plt.title(\"Best Polynomial Fit (via Grid Search)\")\n",
        "plt.show()\n"
      ]
    },
    {
      "cell_type": "markdown",
      "id": "a21b23f2",
      "metadata": {
        "id": "a21b23f2"
      },
      "source": [
        "\n",
        "### 📝 TODO\n",
        "- Change the degree range (e.g., 1–8) and re-run. Does performance keep improving?\n",
        "- Try a different `FEATURE_X`.\n"
      ]
    },
    {
      "cell_type": "markdown",
      "id": "82a5cd04",
      "metadata": {
        "id": "82a5cd04"
      },
      "source": [
        "## 9) Interpreting Coefficients (Multi-Variable Model)"
      ]
    },
    {
      "cell_type": "code",
      "execution_count": null,
      "id": "9d60c8aa",
      "metadata": {
        "id": "9d60c8aa"
      },
      "outputs": [],
      "source": [
        "\n",
        "# Show top coefficients by magnitude (multi-variable linear model)\n",
        "coef = lin.coef_\n",
        "coef_df = pd.DataFrame({\"feature\": numeric_cols, \"coefficient\": coef})\n",
        "coef_df[\"abs_coef\"] = coef_df[\"coefficient\"].abs()\n",
        "coef_df.sort_values(\"abs_coef\", ascending=False, inplace=True)\n",
        "coef_df.drop(columns=[\"abs_coef\"], inplace=True)\n",
        "coef_df.head(10)\n"
      ]
    },
    {
      "cell_type": "markdown",
      "id": "5069016a",
      "metadata": {
        "id": "5069016a"
      },
      "source": [
        "\n",
        "### 📝 TODO\n",
        "- Which features have the largest (absolute) coefficients?\n",
        "- Do the signs (+/-) match your intuition?\n"
      ]
    },
    {
      "cell_type": "markdown",
      "id": "6a4273bb",
      "metadata": {
        "id": "6a4273bb"
      },
      "source": [
        "\n",
        "## 10) Linear Regression — Quick Assumptions Checklist\n",
        "- **Linearity**: Relationship between predictors and target is roughly linear.\n",
        "- **Independence**: Errors are independent.\n",
        "- **Homoscedasticity**: Residuals have constant variance.\n",
        "- **Normality (for inference)**: Residuals are roughly normal.\n",
        "- **No perfect multicollinearity**: Avoid duplicate/linearly dependent features.\n"
      ]
    },
    {
      "cell_type": "markdown",
      "id": "414d56ff",
      "metadata": {
        "id": "414d56ff"
      },
      "source": [
        "\n",
        "## 11) Assumption Checks — Code You Can Run\n",
        "We'll check the classic linear regression assumptions using simple, readable code:\n",
        "- **Linearity & Homoscedasticity:** residuals vs predicted plot\n",
        "- **Normality of residuals:** Q–Q plot and Shapiro–Wilk test\n",
        "- **Independence of errors:** Durbin–Watson statistic\n",
        "- **Multicollinearity:** Variance Inflation Factor (VIF)\n"
      ]
    },
    {
      "cell_type": "code",
      "execution_count": null,
      "id": "6d819a91",
      "metadata": {
        "id": "6d819a91"
      },
      "outputs": [],
      "source": [
        "\n",
        "#@title Install test libs (statsmodels) if needed\n",
        "import sys, subprocess\n",
        "def pip_install(pkg):\n",
        "    subprocess.run([sys.executable, \"-m\", \"pip\", \"install\", \"-q\", pkg], check=False)\n",
        "\n",
        "try:\n",
        "    import statsmodels\n",
        "except:\n",
        "    pip_install(\"statsmodels>=0.14\")\n",
        "    import statsmodels\n",
        "\n",
        "from scipy import stats\n",
        "import numpy as np\n",
        "import pandas as pd\n",
        "import matplotlib.pyplot as plt\n",
        "from statsmodels.stats.stattools import durbin_watson\n",
        "from statsmodels.stats.diagnostic import het_breuschpagan\n",
        "import statsmodels.api as sm\n",
        "from statsmodels.stats.outliers_influence import variance_inflation_factor\n",
        "\n",
        "# NOTE: This cell assumes you've already run the multi-variable model section\n",
        "# so that y_test, y_pred, X_train, X_test, numeric_cols, TARGET are defined.\n",
        "# If not, re-run sections 6 and 7.\n"
      ]
    },
    {
      "cell_type": "code",
      "execution_count": null,
      "id": "0f55aae1",
      "metadata": {
        "id": "0f55aae1"
      },
      "outputs": [],
      "source": [
        "\n",
        "# 11.1 Linearity & Homoscedasticity (visual)\n",
        "# Residuals vs Predicted should look like a random cloud around 0 (no pattern / fanning)\n",
        "\n",
        "residuals = y_test - y_pred\n",
        "\n",
        "plt.figure()\n",
        "plt.scatter(y_pred, residuals, s=14)\n",
        "plt.axhline(0, linestyle=\"--\")\n",
        "plt.xlabel(\"Predicted\")\n",
        "plt.ylabel(\"Residuals\")\n",
        "plt.title(\"Residuals vs Predicted\")\n",
        "plt.show()\n",
        "\n",
        "print(\"🧐 Look for: no obvious curve/pattern; spread roughly constant across x-axis.\")\n"
      ]
    },
    {
      "cell_type": "code",
      "execution_count": null,
      "id": "59db51f7",
      "metadata": {
        "id": "59db51f7"
      },
      "outputs": [],
      "source": [
        "\n",
        "# 11.2 Normality of residuals: Q–Q plot + Shapiro–Wilk test\n",
        "plt.figure()\n",
        "stats.probplot(residuals, dist=\"norm\", plot=plt)\n",
        "plt.title(\"Q–Q Plot of Residuals\")\n",
        "plt.show()\n",
        "\n",
        "sh_stat, sh_p = stats.shapiro(residuals)\n",
        "print(f\"Shapiro–Wilk: statistic={sh_stat:.3f}, p-value={sh_p:.3g}\")\n",
        "print(\"Rule of thumb: p-value > 0.05 suggests residuals are close to normal (for inference).\")\n"
      ]
    },
    {
      "cell_type": "code",
      "execution_count": null,
      "id": "ff584073",
      "metadata": {
        "id": "ff584073"
      },
      "outputs": [],
      "source": [
        "\n",
        "# 11.3 Independence of errors: Durbin–Watson (≈2 is good; <1 or >3 indicates strong autocorrelation)\n",
        "dw = durbin_watson(residuals)\n",
        "print(f\"Durbin–Watson statistic = {dw:.3f}\")\n",
        "print(\"Guideline: ~2 means uncorrelated; much below 2 ⇒ positive autocorrelation; much above 2 ⇒ negative autocorrelation.\")\n"
      ]
    },
    {
      "cell_type": "code",
      "execution_count": null,
      "id": "06e46ecc",
      "metadata": {
        "id": "06e46ecc"
      },
      "outputs": [],
      "source": [
        "\n",
        "# 11.4 Homoscedasticity formal test: Breusch–Pagan\n",
        "# Use original predictors (X_test). Add constant for the test design matrix.\n",
        "\n",
        "X_bp = sm.add_constant(pd.DataFrame(X_test, columns=numeric_cols))\n",
        "bp_stat, bp_p, _, _ = het_breuschpagan(residuals, X_bp)\n",
        "print(f\"Breusch–Pagan: stat={bp_stat:.3f}, p-value={bp_p:.3g}\")\n",
        "print(\"Rule of thumb: p-value > 0.05 ⇒ no strong evidence of heteroscedasticity.\")\n"
      ]
    },
    {
      "cell_type": "code",
      "execution_count": null,
      "id": "f0ef9de2",
      "metadata": {
        "id": "f0ef9de2"
      },
      "outputs": [],
      "source": [
        "\n",
        "# 11.5 Multicollinearity: VIF (on training predictors)\n",
        "X_vif = pd.DataFrame(X_train, columns=numeric_cols).dropna()\n",
        "X_vif_const = sm.add_constant(X_vif, has_constant='add')\n",
        "\n",
        "vif_vals = []\n",
        "for i, col in enumerate(X_vif_const.columns):\n",
        "    if col == 'const':\n",
        "        continue\n",
        "    vif_vals.append({\"feature\": col, \"VIF\": variance_inflation_factor(X_vif_const.values, i+1)})\n",
        "\n",
        "vif_df = pd.DataFrame(vif_vals).sort_values(\"VIF\", ascending=False)\n",
        "vif_df\n"
      ]
    },
    {
      "cell_type": "markdown",
      "id": "901800b4",
      "metadata": {
        "id": "901800b4"
      },
      "source": [
        "\n",
        "### 📝 TODO\n",
        "- If **Breusch–Pagan p < 0.05**, try transforming a skewed feature (e.g., `np.log1p(x)`) and re-fit.  \n",
        "- If **Shapiro p < 0.05**, consider outliers or feature transforms.  \n",
        "- If **VIF > 10** for a feature, try removing it or combining highly correlated features.  \n",
        "- If **Durbin–Watson** is far from 2 (time-indexed data), try adding lag features or using time-series models.\n"
      ]
    }
  ],
  "metadata": {
    "kernelspec": {
      "display_name": "cse303_ml",
      "language": "python",
      "name": "python3"
    },
    "language_info": {
      "codemirror_mode": {
        "name": "ipython",
        "version": 3
      },
      "file_extension": ".py",
      "mimetype": "text/x-python",
      "name": "python",
      "nbconvert_exporter": "python",
      "pygments_lexer": "ipython3",
      "version": "3.10.18"
    },
    "colab": {
      "provenance": [],
      "include_colab_link": true
    }
  },
  "nbformat": 4,
  "nbformat_minor": 5
}